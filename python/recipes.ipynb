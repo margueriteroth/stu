{
 "metadata": {
  "language_info": {
   "codemirror_mode": {
    "name": "ipython",
    "version": 3
   },
   "file_extension": ".py",
   "mimetype": "text/x-python",
   "name": "python",
   "nbconvert_exporter": "python",
   "pygments_lexer": "ipython3",
   "version": "3.8.6-final"
  },
  "orig_nbformat": 2,
  "kernelspec": {
   "name": "python3",
   "display_name": "Python 3",
   "language": "python"
  }
 },
 "nbformat": 4,
 "nbformat_minor": 2,
 "cells": [
  {
   "cell_type": "code",
   "execution_count": 7,
   "metadata": {},
   "outputs": [],
   "source": [
    "import pandas as pd\n",
    "import numpy as np\n",
    "import requests\n",
    "import json\n",
    "import string\n",
    "import copy\n",
    "import os\n",
    "from dotenv import load_dotenv, find_dotenv\n",
    "from csv import reader\n",
    "from datetime import datetime\n",
    "from random import randint\n",
    "from pandas import DataFrame\n",
    "\n"
   ]
  },
  {
   "cell_type": "code",
   "execution_count": 13,
   "metadata": {},
   "outputs": [],
   "source": [
    "recipes_data = open('/Users/margueriteroth/repos/stu/python/dessert-person-recipes.csv')\n",
    "\n",
    "recipes_data = reader(recipes_data)\n",
    "recipes_table = list(recipes_data)\n",
    "recipes = recipes_table[1:]"
   ]
  },
  {
   "cell_type": "code",
   "execution_count": 14,
   "metadata": {},
   "outputs": [
    {
     "output_type": "stream",
     "name": "stdout",
     "text": [
      "['Recipes', 'Difficulty', 'Page', 'Minutes', 'Section']\n"
     ]
    }
   ],
   "source": [
    "headers = []\n",
    "headers = recipes_table[0].copy()\n",
    "\n",
    "print(headers)"
   ]
  },
  {
   "cell_type": "code",
   "execution_count": null,
   "metadata": {},
   "outputs": [],
   "source": []
  }
 ]
}